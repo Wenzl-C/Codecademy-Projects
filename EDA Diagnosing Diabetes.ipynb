{
  "metadata": {
    "kernelspec": {
      "name": "python",
      "display_name": "Python (Pyodide)",
      "language": "python"
    },
    "language_info": {
      "codemirror_mode": {
        "name": "python",
        "version": 3
      },
      "file_extension": ".py",
      "mimetype": "text/x-python",
      "name": "python",
      "nbconvert_exporter": "python",
      "pygments_lexer": "ipython3",
      "version": "3.8"
    }
  },
  "nbformat_minor": 5,
  "nbformat": 4,
  "cells": [
    {
      "id": "f4c71b09",
      "cell_type": "markdown",
      "source": "# EDA: Diagnosing Diabetes",
      "metadata": {}
    },
    {
      "id": "7cf00067",
      "cell_type": "markdown",
      "source": "In this project, you'll imagine you are a data scientist interested in exploring data that looks at how certain diagnostic factors affect the diabetes outcome of women patients.\n\nYou will use your EDA skills to help inspect, clean, and validate the data.\n\n**Note**: This [dataset](https://www.kaggle.com/uciml/pima-indians-diabetes-database) is from the National Institute of Diabetes and Digestive and Kidney Diseases. It contains the following columns:\n\n- `Pregnancies`: Number of times pregnant\n- `Glucose`: Plasma glucose concentration per 2 hours in an oral glucose tolerance test\n- `BloodPressure`: Diastolic blood pressure\n- `SkinThickness`: Triceps skinfold thickness\n- `Insulin`: 2-Hour serum insulin\n- `BMI`: Body mass index\n- `DiabetesPedigreeFunction`: Diabetes pedigree function\n- `Age`: Age (years)\n- `Outcome`: Class variable (0 or 1)\n\nLet's get started!",
      "metadata": {}
    },
    {
      "id": "6e1cc217",
      "cell_type": "markdown",
      "source": "## Initial Inspection",
      "metadata": {}
    },
    {
      "id": "76684c5b",
      "cell_type": "markdown",
      "source": "1. First, familiarize yourself with the dataset [here](https://www.kaggle.com/uciml/pima-indians-diabetes-database).\n\n   Look at each of the nine columns in the documentation.\n   \n   What do you expect each data type to be?",
      "metadata": {}
    },
    {
      "id": "f7bdb023",
      "cell_type": "markdown",
      "source": "Expected data type for each column:\n\n- `Pregnancies`: \n- `Glucose`: \n- `BloodPressure`: \n- `SkinThickness`: \n- `Insulin`: \n- `BMI`: \n- `DiabetesPedigreeFunction`: \n- `Age`: \n- `Outcome`: ",
      "metadata": {}
    },
    {
      "id": "fc54249b",
      "cell_type": "markdown",
      "source": "2. Next, let's load in the diabetes data to start exploring.\n\n   Load the data in a variable called `diabetes_data` and print the first few rows.\n   \n   **Note**: The data is stored in a file called `diabetes.csv`.",
      "metadata": {}
    },
    {
      "id": "4839762f",
      "cell_type": "code",
      "source": "import pandas as pd\nimport numpy as np\n\n# load in data\ndiabetes_data = pd.read_csv('diabetes.csv')\ndiabetes_data.head()",
      "metadata": {
        "trusted": true
      },
      "outputs": [
        {
          "execution_count": 1,
          "output_type": "execute_result",
          "data": {
            "text/plain": "   Pregnancies  Glucose  BloodPressure  SkinThickness  Insulin   BMI  \\\n0            6      148             72             35        0  33.6   \n1            1       85             66             29        0  26.6   \n2            8      183             64              0        0  23.3   \n3            1       89             66             23       94  28.1   \n4            0      137             40             35      168  43.1   \n\n   DiabetesPedigreeFunction  Age Outcome  \n0                     0.627   50       1  \n1                     0.351   31       0  \n2                     0.672   32       1  \n3                     0.167   21       0  \n4                     2.288   33       1  ",
            "text/html": "<div>\n<style scoped>\n    .dataframe tbody tr th:only-of-type {\n        vertical-align: middle;\n    }\n\n    .dataframe tbody tr th {\n        vertical-align: top;\n    }\n\n    .dataframe thead th {\n        text-align: right;\n    }\n</style>\n<table border=\"1\" class=\"dataframe\">\n  <thead>\n    <tr style=\"text-align: right;\">\n      <th></th>\n      <th>Pregnancies</th>\n      <th>Glucose</th>\n      <th>BloodPressure</th>\n      <th>SkinThickness</th>\n      <th>Insulin</th>\n      <th>BMI</th>\n      <th>DiabetesPedigreeFunction</th>\n      <th>Age</th>\n      <th>Outcome</th>\n    </tr>\n  </thead>\n  <tbody>\n    <tr>\n      <th>0</th>\n      <td>6</td>\n      <td>148</td>\n      <td>72</td>\n      <td>35</td>\n      <td>0</td>\n      <td>33.6</td>\n      <td>0.627</td>\n      <td>50</td>\n      <td>1</td>\n    </tr>\n    <tr>\n      <th>1</th>\n      <td>1</td>\n      <td>85</td>\n      <td>66</td>\n      <td>29</td>\n      <td>0</td>\n      <td>26.6</td>\n      <td>0.351</td>\n      <td>31</td>\n      <td>0</td>\n    </tr>\n    <tr>\n      <th>2</th>\n      <td>8</td>\n      <td>183</td>\n      <td>64</td>\n      <td>0</td>\n      <td>0</td>\n      <td>23.3</td>\n      <td>0.672</td>\n      <td>32</td>\n      <td>1</td>\n    </tr>\n    <tr>\n      <th>3</th>\n      <td>1</td>\n      <td>89</td>\n      <td>66</td>\n      <td>23</td>\n      <td>94</td>\n      <td>28.1</td>\n      <td>0.167</td>\n      <td>21</td>\n      <td>0</td>\n    </tr>\n    <tr>\n      <th>4</th>\n      <td>0</td>\n      <td>137</td>\n      <td>40</td>\n      <td>35</td>\n      <td>168</td>\n      <td>43.1</td>\n      <td>2.288</td>\n      <td>33</td>\n      <td>1</td>\n    </tr>\n  </tbody>\n</table>\n</div>"
          },
          "metadata": {}
        }
      ],
      "execution_count": 1
    },
    {
      "id": "90d35b44",
      "cell_type": "markdown",
      "source": "3. How many columns (features) does the data contain?",
      "metadata": {}
    },
    {
      "id": "c7fc98c4",
      "cell_type": "code",
      "source": "# print number of columns\nprint(len(diabetes_data.columns))",
      "metadata": {
        "trusted": true
      },
      "outputs": [
        {
          "name": "stdout",
          "output_type": "stream",
          "text": "9\n"
        }
      ],
      "execution_count": 6
    },
    {
      "id": "35d2bf80",
      "cell_type": "markdown",
      "source": "4. How many rows (observations) does the data contain?",
      "metadata": {}
    },
    {
      "id": "190b7a90",
      "cell_type": "code",
      "source": "# print number of rows\nprint(len(diabetes_data))",
      "metadata": {
        "trusted": true
      },
      "outputs": [
        {
          "name": "stdout",
          "output_type": "stream",
          "text": "768\n"
        }
      ],
      "execution_count": 7
    },
    {
      "id": "65d8ddf0",
      "cell_type": "markdown",
      "source": "## Further Inspection",
      "metadata": {}
    },
    {
      "id": "04e3c6ef",
      "cell_type": "markdown",
      "source": "5. Let's inspect `diabetes_data` further.\n\n   Do any of the columns in the data contain null (missing) values?",
      "metadata": {}
    },
    {
      "id": "d0fa3860",
      "cell_type": "code",
      "source": "# find whether columns contain null values\nprint(diabetes_data.isnull().sum())",
      "metadata": {
        "trusted": true
      },
      "outputs": [
        {
          "name": "stdout",
          "output_type": "stream",
          "text": "Pregnancies                 0\nGlucose                     0\nBloodPressure               0\nSkinThickness               0\nInsulin                     0\nBMI                         0\nDiabetesPedigreeFunction    0\nAge                         0\nOutcome                     0\ndtype: int64\n"
        }
      ],
      "execution_count": 9
    },
    {
      "id": "8ee62c01",
      "cell_type": "markdown",
      "source": "6. If you answered no to the question above, not so fast!\n\n   While it's technically true that none of the columns contain null values, that doesn't necessarily mean that the data isn't missing any values.\n   \n   When exploring data, you should always question your assumptions and try to dig deeper.\n   \n   To investigate further, calculate summary statistics on `diabetes_data` using the `.describe()` method.",
      "metadata": {}
    },
    {
      "id": "451efb00",
      "cell_type": "code",
      "source": "# perform summary statistics\nprint(diabetes_data.describe())",
      "metadata": {
        "trusted": true
      },
      "outputs": [
        {
          "name": "stdout",
          "output_type": "stream",
          "text": "       Pregnancies     Glucose  BloodPressure  SkinThickness     Insulin  \\\ncount   768.000000  768.000000     768.000000     768.000000  768.000000   \nmean      3.845052  120.894531      69.105469      20.536458   79.799479   \nstd       3.369578   31.972618      19.355807      15.952218  115.244002   \nmin       0.000000    0.000000       0.000000       0.000000    0.000000   \n25%       1.000000   99.000000      62.000000       0.000000    0.000000   \n50%       3.000000  117.000000      72.000000      23.000000   30.500000   \n75%       6.000000  140.250000      80.000000      32.000000  127.250000   \nmax      17.000000  199.000000     122.000000      99.000000  846.000000   \n\n              BMI  DiabetesPedigreeFunction         Age  \ncount  768.000000                768.000000  768.000000  \nmean    31.992578                  0.471876   33.240885  \nstd      7.884160                  0.331329   11.760232  \nmin      0.000000                  0.078000   21.000000  \n25%     27.300000                  0.243750   24.000000  \n50%     32.000000                  0.372500   29.000000  \n75%     36.600000                  0.626250   41.000000  \nmax     67.100000                  2.420000   81.000000  \n"
        }
      ],
      "execution_count": 10
    },
    {
      "id": "ad900272",
      "cell_type": "markdown",
      "source": "7. Looking at the summary statistics, do you notice anything odd about the following columns?\n\n   - `Glucose`\n   - `BloodPressure`\n   - `SkinThickness`\n   - `Insulin`\n   - `BMI`",
      "metadata": {}
    },
    {
      "id": "7131eacb",
      "cell_type": "markdown",
      "source": "**Your response to question 7**: The min for all of these columns are 0, which should not be possible for any of these columns.",
      "metadata": {}
    },
    {
      "id": "3ed15b79",
      "cell_type": "markdown",
      "source": "8. Do you spot any other outliers in the data?",
      "metadata": {}
    },
    {
      "id": "8a708e88",
      "cell_type": "markdown",
      "source": "**Your response to question 8**: Besides the 0 values mentioned in the previous question. In the pregnancies column, 17 as the max is quite high. As well as 846 for the Insulin count.",
      "metadata": {}
    },
    {
      "id": "4b5bcf47",
      "cell_type": "markdown",
      "source": "9. Let's see if we can get a more accurate view of the missing values in the data.\n\n   Use the following code to replace the instances of `0` with `NaN` in the five columns mentioned:\n   \n   ```py\n   diabetes_data[['Glucose', 'BloodPressure', 'SkinThickness', 'Insulin', 'BMI']] = diabetes_data[['Glucose', 'BloodPressure', 'SkinThickness', 'Insulin', 'BMI']].replace(0, np.NaN)\n   ```",
      "metadata": {}
    },
    {
      "id": "623def40",
      "cell_type": "code",
      "source": "# replace instances of 0 with NaN\ndiabetes_data[['Glucose', 'BloodPressure', 'SkinThickness', 'Insulin', 'BMI']] = diabetes_data[['Glucose', 'BloodPressure', 'SkinThickness', 'Insulin', 'BMI']].replace(0, np.nan)",
      "metadata": {
        "trusted": true
      },
      "outputs": [],
      "execution_count": 12
    },
    {
      "id": "ad9fc71d",
      "cell_type": "markdown",
      "source": "10. Next, check for missing (null) values in all of the columns just like you did in Step 5.\n\n    Now how many missing values are there?",
      "metadata": {}
    },
    {
      "id": "1e4d2845",
      "cell_type": "code",
      "source": "# find whether columns contain null values after replacements are made\nprint(diabetes_data.isnull().sum())",
      "metadata": {
        "trusted": true
      },
      "outputs": [
        {
          "name": "stdout",
          "output_type": "stream",
          "text": "Pregnancies                   0\nGlucose                       5\nBloodPressure                35\nSkinThickness               227\nInsulin                     374\nBMI                          11\nDiabetesPedigreeFunction      0\nAge                           0\nOutcome                       0\ndtype: int64\n"
        }
      ],
      "execution_count": 13
    },
    {
      "id": "4265329e",
      "cell_type": "markdown",
      "source": "11. Let's take a closer look at these rows to get a better idea of _why_ some data might be missing.\n\n    Print out all the rows that contain missing (null) values.",
      "metadata": {}
    },
    {
      "id": "91f5b1fe",
      "cell_type": "code",
      "source": "# print rows with missing values\nprint(diabetes_data[diabetes_data.isnull().any(axis=1)])",
      "metadata": {
        "trusted": true
      },
      "outputs": [
        {
          "name": "stdout",
          "output_type": "stream",
          "text": "     Pregnancies  Glucose  BloodPressure  SkinThickness  Insulin   BMI  \\\n0              6    148.0           72.0           35.0      NaN  33.6   \n1              1     85.0           66.0           29.0      NaN  26.6   \n2              8    183.0           64.0            NaN      NaN  23.3   \n5              5    116.0           74.0            NaN      NaN  25.6   \n7             10    115.0            NaN            NaN      NaN  35.3   \n..           ...      ...            ...            ...      ...   ...   \n761            9    170.0           74.0           31.0      NaN  44.0   \n762            9     89.0           62.0            NaN      NaN  22.5   \n764            2    122.0           70.0           27.0      NaN  36.8   \n766            1    126.0           60.0            NaN      NaN  30.1   \n767            1     93.0           70.0           31.0      NaN  30.4   \n\n     DiabetesPedigreeFunction  Age Outcome  \n0                       0.627   50       1  \n1                       0.351   31       0  \n2                       0.672   32       1  \n5                       0.201   30       0  \n7                       0.134   29       0  \n..                        ...  ...     ...  \n761                     0.403   43       1  \n762                     0.142   33       0  \n764                     0.340   27       0  \n766                     0.349   47       1  \n767                     0.315   23       0  \n\n[376 rows x 9 columns]\n"
        }
      ],
      "execution_count": 15
    },
    {
      "id": "e3f06a2e",
      "cell_type": "markdown",
      "source": "12. Go through the rows with missing data. Do you notice any patterns or overlaps between the missing data?",
      "metadata": {}
    },
    {
      "id": "cb42cfe6",
      "cell_type": "markdown",
      "source": "**Your response to question 12**: It appears that all rows with missing data have at least missing Insulin data.",
      "metadata": {}
    },
    {
      "id": "5b597d09",
      "cell_type": "markdown",
      "source": "13. Next, take a closer look at the data types of each column in `diabetes_data`.\n\n    Does the result match what you would expect?",
      "metadata": {}
    },
    {
      "id": "5855aa09",
      "cell_type": "code",
      "source": "# print data types using .info() method\nprint(diabetes_data.info())",
      "metadata": {
        "trusted": true
      },
      "outputs": [
        {
          "name": "stdout",
          "output_type": "stream",
          "text": "<class 'pandas.core.frame.DataFrame'>\nRangeIndex: 768 entries, 0 to 767\nData columns (total 9 columns):\n #   Column                    Non-Null Count  Dtype  \n---  ------                    --------------  -----  \n 0   Pregnancies               768 non-null    int64  \n 1   Glucose                   763 non-null    float64\n 2   BloodPressure             733 non-null    float64\n 3   SkinThickness             541 non-null    float64\n 4   Insulin                   394 non-null    float64\n 5   BMI                       757 non-null    float64\n 6   DiabetesPedigreeFunction  768 non-null    float64\n 7   Age                       768 non-null    int64  \n 8   Outcome                   768 non-null    object \ndtypes: float64(6), int64(2), object(1)\nmemory usage: 51.1+ KB\nNone\n"
        }
      ],
      "execution_count": 16
    },
    {
      "id": "c61b8b02",
      "cell_type": "markdown",
      "source": "14. To figure out why the `Outcome` column is of type `object` (string) instead of type `int64`, print out the unique values in the `Outcome` column.",
      "metadata": {}
    },
    {
      "id": "ffedd117",
      "cell_type": "code",
      "source": "# print unique values of Outcome column\nprint(diabetes_data['Outcome'].unique())",
      "metadata": {
        "trusted": true
      },
      "outputs": [
        {
          "name": "stdout",
          "output_type": "stream",
          "text": "['1' '0' 'O']\n"
        }
      ],
      "execution_count": 17
    },
    {
      "id": "42b3bcbe",
      "cell_type": "markdown",
      "source": "15. How might you resolve this issue?",
      "metadata": {}
    },
    {
      "id": "7495f5b6",
      "cell_type": "markdown",
      "source": "**Your response to question 15**: It appears that some values are inccorrectly entered as 'O' rather than '0'. If all O values are replaces with 0, that should fix the issue.",
      "metadata": {}
    },
    {
      "id": "9c5fbcbe",
      "cell_type": "markdown",
      "source": "## Next Steps:",
      "metadata": {}
    },
    {
      "id": "22a324d0",
      "cell_type": "markdown",
      "source": "16. Congratulations! In this project, you saw how EDA can help with the initial data inspection and cleaning process. This is an important step as it helps to keep your datasets clean and reliable.\n\n    Here are some ways you might extend this project if you'd like:\n    - Use `.value_counts()` to more fully explore the values in each column.\n    - Investigate other outliers in the data that may be easily overlooked.\n    - Instead of changing the `0` values in the five columns to `NaN`, try replacing the values with the median or mean of each column.",
      "metadata": {}
    },
    {
      "id": "b7f440b6",
      "cell_type": "code",
      "source": "print(diabetes_data.value_counts())",
      "metadata": {
        "trusted": true
      },
      "outputs": [
        {
          "name": "stdout",
          "output_type": "stream",
          "text": "Pregnancies  Glucose  BloodPressure  SkinThickness  Insulin  BMI   DiabetesPedigreeFunction  Age  Outcome\n0            74.0     52.0           10.0           36.0     27.8  0.269                     22   0          1\n4            117.0    64.0           27.0           120.0    33.2  0.230                     24   0          1\n             111.0    72.0           47.0           207.0    37.1  1.390                     56   1          1\n             110.0    76.0           20.0           100.0    28.4  0.118                     27   0          1\n             109.0    64.0           44.0           99.0     34.8  0.905                     26   1          1\n                                                                                                            ..\n1            131.0    64.0           14.0           415.0    23.7  0.389                     21   0          1\n             130.0    70.0           13.0           105.0    25.9  0.472                     22   0          1\n                      60.0           23.0           170.0    28.6  0.692                     21   0          1\n             128.0    98.0           41.0           58.0     32.0  1.321                     33   1          1\n17           163.0    72.0           41.0           114.0    40.9  0.817                     47   1          1\nName: count, Length: 392, dtype: int64\n"
        }
      ],
      "execution_count": 19
    }
  ]
}