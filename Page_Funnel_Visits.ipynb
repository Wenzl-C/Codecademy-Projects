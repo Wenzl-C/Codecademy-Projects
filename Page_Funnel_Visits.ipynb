{
  "metadata": {
    "kernelspec": {
      "name": "python",
      "display_name": "Python (Pyodide)",
      "language": "python"
    },
    "language_info": {
      "codemirror_mode": {
        "name": "python",
        "version": 3
      },
      "file_extension": ".py",
      "mimetype": "text/x-python",
      "name": "python",
      "nbconvert_exporter": "python",
      "pygments_lexer": "ipython3",
      "version": "3.8"
    }
  },
  "nbformat_minor": 4,
  "nbformat": 4,
  "cells": [
    {
      "cell_type": "code",
      "source": "import pandas as pd",
      "metadata": {
        "trusted": true
      },
      "outputs": [],
      "execution_count": 2
    },
    {
      "cell_type": "markdown",
      "source": "Import all the files",
      "metadata": {}
    },
    {
      "cell_type": "code",
      "source": "visits = pd.read_csv('visits.csv',\n                     parse_dates=[1])\ncart = pd.read_csv('cart.csv',\n                   parse_dates=[1])\n                   \ncheckout = pd.read_csv('checkout.csv',\n                       parse_dates=[1])\npurchase = pd.read_csv('purchase.csv',\n                       parse_dates=[1])",
      "metadata": {
        "trusted": true
      },
      "outputs": [],
      "execution_count": 3
    },
    {
      "cell_type": "markdown",
      "source": "Step 1: Inspect the DataFrames using `print` and `head`",
      "metadata": {}
    },
    {
      "cell_type": "code",
      "source": "print(visits.head(5))\nprint(cart.head(5))\nprint(checkout.head(5))\nprint(purchase.head(5))",
      "metadata": {
        "trusted": true
      },
      "outputs": [
        {
          "name": "stdout",
          "output_type": "stream",
          "text": "                                user_id          visit_time\n0  943647ef-3682-4750-a2e1-918ba6f16188 2017-04-07 15:14:00\n1  0c3a3dd0-fb64-4eac-bf84-ba069ce409f2 2017-01-26 14:24:00\n2  6e0b2d60-4027-4d9a-babd-0e7d40859fb1 2017-08-20 08:23:00\n3  6879527e-c5a6-4d14-b2da-50b85212b0ab 2017-11-04 18:15:00\n4  a84327ff-5daa-4ba1-b789-d5b4caf81e96 2017-02-27 11:25:00\n                                user_id           cart_time\n0  2be90e7c-9cca-44e0-bcc5-124b945ff168 2017-11-07 20:45:00\n1  4397f73f-1da3-4ab3-91af-762792e25973 2017-05-27 01:35:00\n2  a9db3d4b-0a0a-4398-a55a-ebb2c7adf663 2017-03-04 10:38:00\n3  b594862a-36c5-47d5-b818-6e9512b939b3 2017-09-27 08:22:00\n4  a68a16e2-94f0-4ce8-8ce3-784af0bbb974 2017-07-26 15:48:00\n                                user_id       checkout_time\n0  d33bdc47-4afa-45bc-b4e4-dbe948e34c0d 2017-06-25 09:29:00\n1  4ac186f0-9954-4fea-8a27-c081e428e34e 2017-04-07 20:11:00\n2  3c9c78a7-124a-4b77-8d2e-e1926e011e7d 2017-07-13 11:38:00\n3  89fe330a-8966-4756-8f7c-3bdbcd47279a 2017-04-20 16:15:00\n4  3ccdaf69-2d30-40de-b083-51372881aedd 2017-01-08 20:52:00\n                                user_id       purchase_time\n0  4b44ace4-2721-47a0-b24b-15fbfa2abf85 2017-05-11 04:25:00\n1  02e684ae-a448-408f-a9ff-dcb4a5c99aac 2017-09-05 08:45:00\n2  4b4bc391-749e-4b90-ab8f-4f6e3c84d6dc 2017-11-20 20:49:00\n3  a5dbb25f-3c36-4103-9030-9f7c6241cd8d 2017-01-22 15:18:00\n4  46a3186d-7f5a-4ab9-87af-84d05bfd4867 2017-06-11 11:32:00\n"
        }
      ],
      "execution_count": 4
    },
    {
      "cell_type": "markdown",
      "source": "Step 2: Left merging visits and cart",
      "metadata": {}
    },
    {
      "cell_type": "code",
      "source": "visits_cart = pd.merge(visits, cart, how='left')",
      "metadata": {
        "trusted": true
      },
      "outputs": [],
      "execution_count": 5
    },
    {
      "cell_type": "markdown",
      "source": "Step 3: How long is `visits_cart`?",
      "metadata": {}
    },
    {
      "cell_type": "code",
      "source": "len_of_visits_cart = len(visits_cart)\n\nprint(len_of_visits_cart)",
      "metadata": {
        "trusted": true
      },
      "outputs": [
        {
          "name": "stdout",
          "output_type": "stream",
          "text": "2000\n"
        }
      ],
      "execution_count": 6
    },
    {
      "cell_type": "markdown",
      "source": "Step 4: How many timestamps are null for `cart_time`?",
      "metadata": {}
    },
    {
      "cell_type": "code",
      "source": "null_cart_time = visits_cart[visits_cart.cart_time.isnull()]\n\nprint(null_cart_time)",
      "metadata": {
        "trusted": true
      },
      "outputs": [
        {
          "name": "stdout",
          "output_type": "stream",
          "text": "                                   user_id          visit_time cart_time\n0     943647ef-3682-4750-a2e1-918ba6f16188 2017-04-07 15:14:00       NaT\n3     6879527e-c5a6-4d14-b2da-50b85212b0ab 2017-11-04 18:15:00       NaT\n4     a84327ff-5daa-4ba1-b789-d5b4caf81e96 2017-02-27 11:25:00       NaT\n5     7bc62113-d51d-4e6b-85e0-1cf29e3de74a 2017-06-03 20:05:00       NaT\n6     6f22cd44-bc63-4449-a9af-2651859da2f9 2017-03-18 23:09:00       NaT\n...                                    ...                 ...       ...\n1995  33913ac2-03da-45ae-8fc3-fea39df827c6 2017-03-25 03:29:00       NaT\n1996  4f850132-b99d-4623-80e6-6e61d003577e 2017-01-08 09:57:00       NaT\n1997  f0830b9b-1f5c-4e74-b63d-3f847cc6ce70 2017-09-07 12:56:00       NaT\n1998  b01bffa7-63ba-4cd3-9d93-eb1477c23831 2017-07-20 04:37:00       NaT\n1999  0336ca81-8d68-443f-9248-ac0b8ad147d5 2017-11-15 10:11:00       NaT\n\n[1652 rows x 3 columns]\n"
        }
      ],
      "execution_count": 7
    },
    {
      "cell_type": "markdown",
      "source": "Step 5: What percentage only visited?",
      "metadata": {}
    },
    {
      "cell_type": "code",
      "source": "percent_visited = len(null_cart_time) / len_of_visits_cart * 100\n\nprint(percent_visited)",
      "metadata": {
        "trusted": true
      },
      "outputs": [
        {
          "name": "stdout",
          "output_type": "stream",
          "text": "82.6\n"
        }
      ],
      "execution_count": 8
    },
    {
      "cell_type": "markdown",
      "source": "Step 6: What percentage placed a t-shirt in their cart but did not checkout?",
      "metadata": {}
    },
    {
      "cell_type": "code",
      "source": "#Merging of data frames\ncart_checkout = pd.merge(cart,checkout, how='left')\n\n# Isolating the null values for the checkout time\nnull_checkout = cart_checkout[cart_checkout.checkout_time.isnull()]\n\n#Calculating the percent in which items were added to the cart but not checked out\npercent_no_checkout = len(null_checkout) / len(cart_checkout) * 100\n\n#Printing the number\nprint('Percent of users that did not check out ' + str(percent_no_checkout))",
      "metadata": {
        "trusted": true
      },
      "outputs": [
        {
          "name": "stdout",
          "output_type": "stream",
          "text": "Percent of users that did not check out 35.05747126436782\n"
        }
      ],
      "execution_count": 19
    },
    {
      "cell_type": "markdown",
      "source": "Step 7: Merge it all together",
      "metadata": {}
    },
    {
      "cell_type": "code",
      "source": "# Merging the data frames using a left merge\n\nall_data = visits_cart.merge(cart_checkout, how='left').merge(purchase, how='left')\n\nprint(all_data.head())",
      "metadata": {
        "trusted": true
      },
      "outputs": [
        {
          "name": "stdout",
          "output_type": "stream",
          "text": "                                user_id          visit_time  \\\n0  943647ef-3682-4750-a2e1-918ba6f16188 2017-04-07 15:14:00   \n1  0c3a3dd0-fb64-4eac-bf84-ba069ce409f2 2017-01-26 14:24:00   \n2  6e0b2d60-4027-4d9a-babd-0e7d40859fb1 2017-08-20 08:23:00   \n3  6879527e-c5a6-4d14-b2da-50b85212b0ab 2017-11-04 18:15:00   \n4  a84327ff-5daa-4ba1-b789-d5b4caf81e96 2017-02-27 11:25:00   \n\n            cart_time       checkout_time       purchase_time  \n0                 NaT                 NaT                 NaT  \n1 2017-01-26 14:44:00 2017-01-26 14:54:00 2017-01-26 15:08:00  \n2 2017-08-20 08:31:00                 NaT                 NaT  \n3                 NaT                 NaT                 NaT  \n4                 NaT                 NaT                 NaT  \n"
        }
      ],
      "execution_count": 11
    },
    {
      "cell_type": "markdown",
      "source": "Step 8: % of users who got to checkout but did not purchase",
      "metadata": {}
    },
    {
      "cell_type": "code",
      "source": "# Number of users who checked out\ncheckout_notnull = len(all_data[~all_data.checkout_time.isnull()])\nprint(checkout_notnull)\n\n# Number of users who did not purchase\npurchase_null = len(all_data[(all_data.purchase_time.isnull()) & (~all_data.checkout_time.isnull())])\nprint(purchase_null)\n\n#Calculating the percent of users who checked out but did not purchase\nno_purchase_percent = purchase_null / checkout_notnull *100\n\nprint(f'Percent of users that checked out but did not purchase: {no_purchase_percent:.2f}')",
      "metadata": {
        "trusted": true
      },
      "outputs": [
        {
          "name": "stdout",
          "output_type": "stream",
          "text": "334\n82\nPercent of users that checked out but did not purchase: 24.55\n"
        }
      ],
      "execution_count": 23
    },
    {
      "cell_type": "markdown",
      "source": "Step 9: check each part of the funnel, let's print all 3 of them again",
      "metadata": {}
    },
    {
      "cell_type": "code",
      "source": "print(f'{percent_visited:.2f}% of users visited the site but did not add anything to their cart.')\nprint(f'{percent_no_checkout:.2f}% of users added a t-shirt to their cart but did no checkout.')\nprint(f'{no_purchase_percent:.2f}% of users got to the checkout stage but did not purchase the items in their cart.')",
      "metadata": {
        "trusted": true
      },
      "outputs": [
        {
          "name": "stdout",
          "output_type": "stream",
          "text": "82.60% of users visited the site but did not add anything to their cart.\n35.06% of users added a t-shirt to their cart but did no checkout.\n24.55% of users got to the checkout stage but did not purchase the items in their cart.\n"
        }
      ],
      "execution_count": 24
    },
    {
      "cell_type": "markdown",
      "source": "*The weakest part of the funnel is clearly getting a person who visited the site to add a tshirt to their cart. Once they've added a t-shirt to their cart it is fairly likely they end up purchasing it. A suggestion could be to make the add-to-cart button more prominent on the front page.*\n\n\nStep 10: adding new column",
      "metadata": {}
    },
    {
      "cell_type": "code",
      "source": "all_data['time_on_site'] = all_data['purchase_time'] - all_data['visit_time']",
      "metadata": {
        "trusted": true
      },
      "outputs": [],
      "execution_count": 26
    },
    {
      "cell_type": "markdown",
      "source": "Step 11: examine the results",
      "metadata": {}
    },
    {
      "cell_type": "code",
      "source": "print(all_data['time_on_site'])",
      "metadata": {
        "trusted": true
      },
      "outputs": [
        {
          "name": "stdout",
          "output_type": "stream",
          "text": "0                  NaT\n1      0 days 00:44:00\n2                  NaT\n3                  NaT\n4                  NaT\n             ...      \n2103               NaT\n2104               NaT\n2105               NaT\n2106               NaT\n2107               NaT\nName: time_on_site, Length: 2108, dtype: timedelta64[ns]\n"
        }
      ],
      "execution_count": 27
    },
    {
      "cell_type": "markdown",
      "source": "Step 12: average time to purchase",
      "metadata": {}
    },
    {
      "cell_type": "code",
      "source": "average_time_to_purchase = all_data['time_on_site'].mean()\n\nprint(average_time_to_purchase)",
      "metadata": {
        "trusted": true
      },
      "outputs": [
        {
          "name": "stdout",
          "output_type": "stream",
          "text": "0 days 00:43:12.380952380\n"
        }
      ],
      "execution_count": 28
    },
    {
      "cell_type": "code",
      "source": "",
      "metadata": {},
      "outputs": [],
      "execution_count": null
    }
  ]
}